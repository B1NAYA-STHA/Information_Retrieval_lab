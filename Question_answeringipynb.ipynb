{
  "nbformat": 4,
  "nbformat_minor": 0,
  "metadata": {
    "colab": {
      "provenance": []
    },
    "kernelspec": {
      "name": "python3",
      "display_name": "Python 3"
    },
    "language_info": {
      "name": "python"
    }
  },
  "cells": [
    {
      "cell_type": "code",
      "execution_count": 3,
      "metadata": {
        "colab": {
          "base_uri": "https://localhost:8080/"
        },
        "id": "63fI9ede3Thr",
        "outputId": "89f9f375-fea3-4edc-a8d5-618bf68cce4a"
      },
      "outputs": [
        {
          "output_type": "stream",
          "name": "stdout",
          "text": [
            "User Question: Which library is used for numerical computation in Python?\n",
            "Top Relevant Document: NumPy is used for numerical computations in Python.\n",
            "Answer: You can use NumPy for numerical computations in Python.\n"
          ]
        }
      ],
      "source": [
        "import numpy as np\n",
        "\n",
        "# Knowledge Base (Documents)\n",
        "docs = [\n",
        "    \"Python is a programming language used for web development, data analysis, and AI.\",\n",
        "    \"Machine learning is a subset of AI that allows computers to learn from data.\",\n",
        "    \"Pandas is a Python library for data manipulation and analysis.\",\n",
        "    \"NumPy is used for numerical computations in Python.\"\n",
        "]\n",
        "\n",
        "# Create Vocabulary\n",
        "vocab = list(set(word.lower() for doc in docs for word in doc.split()))\n",
        "vocab_index = {word:i for i, word in enumerate(vocab)}\n",
        "\n",
        "# Convert Docs to Vectors\n",
        "def doc_to_vector(doc):\n",
        "    vec = np.zeros(len(vocab))\n",
        "    for word in doc.lower().split():\n",
        "        if word in vocab_index:\n",
        "            vec[vocab_index[word]] += 1\n",
        "    return vec\n",
        "\n",
        "X = np.array([doc_to_vector(doc) for doc in docs])\n",
        "\n",
        "# User Question\n",
        "question = \"Which library is used for numerical computation in Python?\"\n",
        "q_vec = doc_to_vector(question)\n",
        "\n",
        "# Compute Cosine Similarity\n",
        "def cosine_sim(a, b):\n",
        "    return np.dot(a, b) / (np.linalg.norm(a) * np.linalg.norm(b) + 1e-10)\n",
        "\n",
        "similarities = [cosine_sim(q_vec, doc_vec) for doc_vec in X]\n",
        "\n",
        "# Retrieve top document\n",
        "top_idx = np.argmax(similarities)\n",
        "top_doc = docs[top_idx]\n",
        "\n",
        "# Conditional Answering (simple rules)\n",
        "if \"pandas\" in top_doc.lower():\n",
        "    answer = \"You should use Pandas for data analysis in Python.\"\n",
        "elif \"numpy\" in top_doc.lower():\n",
        "    answer = \"You can use NumPy for numerical computations in Python.\"\n",
        "elif \"machine learning\" in top_doc.lower():\n",
        "    answer = \"Machine learning involves algorithms to learn from data.\"\n",
        "else:\n",
        "    answer = top_doc  # fallback\n",
        "\n",
        "# Display\n",
        "print(\"User Question:\", question)\n",
        "print(\"Top Relevant Document:\", top_doc)\n",
        "print(\"Answer:\", answer)\n"
      ]
    },
    {
      "cell_type": "code",
      "source": [],
      "metadata": {
        "id": "xa_oZeHN5e6g"
      },
      "execution_count": 9,
      "outputs": []
    }
  ]
}