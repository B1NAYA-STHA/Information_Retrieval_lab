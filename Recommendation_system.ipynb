{
  "nbformat": 4,
  "nbformat_minor": 0,
  "metadata": {
    "colab": {
      "provenance": []
    },
    "kernelspec": {
      "name": "python3",
      "display_name": "Python 3"
    },
    "language_info": {
      "name": "python"
    }
  },
  "cells": [
    {
      "cell_type": "markdown",
      "source": [
        "**Content based recommendation**"
      ],
      "metadata": {
        "id": "PWUjOmnz0oe8"
      }
    },
    {
      "cell_type": "code",
      "source": [
        "# Example books with genres/tags\n",
        "books = {\n",
        "    \"The Hobbit\": [\"fantasy\", \"adventure\", \"classic\"],\n",
        "    \"Harry Potter\": [\"fantasy\", \"magic\", \"adventure\"],\n",
        "    \"1984\": [\"dystopia\", \"classic\", \"political\"],\n",
        "    \"The Lord of the Rings\": [\"fantasy\", \"adventure\", \"epic\"],\n",
        "    \"Brave New World\": [\"dystopia\", \"classic\", \"science fiction\"],\n",
        "    \"The Catcher in the Rye\": [\"classic\", \"coming of age\", \"literature\"],\n",
        "    \"Animal Farm\": [\"dystopia\", \"political\", \"classic\"],\n",
        "    \"Percy Jackson\": [\"fantasy\", \"adventure\", \"mythology\"]\n",
        "}\n",
        "\n",
        "# User likes books\n",
        "user_likes = [\"Harry Potter\", \"The Hobbit\"]"
      ],
      "metadata": {
        "id": "B0Go_nqY0n1w"
      },
      "execution_count": 11,
      "outputs": []
    },
    {
      "cell_type": "code",
      "execution_count": 12,
      "metadata": {
        "id": "c3h2hmbX0cW1"
      },
      "outputs": [],
      "source": [
        "# cosine similarity based on tags\n",
        "def cosine_sim(a, b):\n",
        "    a_set, b_set = set(a), set(b)\n",
        "    return len(a_set & b_set) / (len(a_set) * len(b_set))**0.5"
      ]
    },
    {
      "cell_type": "code",
      "source": [
        "# Aggregate similarity (sum over liked books)\n",
        "recommendations = {}\n",
        "for book, tags in books.items():\n",
        "    if book not in user_likes:\n",
        "        sim = sum([cosine_sim(tags, books[liked]) for liked in user_likes])\n",
        "        recommendations[book] = sim\n",
        "\n",
        "# Sort and pick top 3\n",
        "top_recommendations = sorted(recommendations.items(), key=lambda x: x[1], reverse=True)[:3]\n",
        "\n",
        "print(\"Top 3 Content-Based Book Recommendations:\")\n",
        "for book, score in top_recommendations:\n",
        "    print(f\"{book} (score: {round(score,2)})\")\n"
      ],
      "metadata": {
        "colab": {
          "base_uri": "https://localhost:8080/"
        },
        "id": "zI1A2T-e0yRu",
        "outputId": "b598e91d-7e4d-4746-ec02-ba4e087fcd0c"
      },
      "execution_count": 14,
      "outputs": [
        {
          "output_type": "stream",
          "name": "stdout",
          "text": [
            "Top 3 Content-Based Book Recommendations:\n",
            "The Lord of the Rings (score: 1.33)\n",
            "Percy Jackson (score: 1.33)\n",
            "1984 (score: 0.33)\n"
          ]
        }
      ]
    },
    {
      "cell_type": "markdown",
      "source": [
        "**Collaborative based recommendation**"
      ],
      "metadata": {
        "id": "tfTmoJpC2Az8"
      }
    },
    {
      "cell_type": "code",
      "source": [
        "# Users and ratings (1-5 scale)\n",
        "ratings = {\n",
        "    \"User1\": {\"Inception\":5, \"Avatar\":4},      # User1 has not rated Titanic\n",
        "    \"User2\": {\"Inception\":4, \"Avatar\":5, \"Titanic\":2},\n",
        "    \"User3\": {\"Inception\":2, \"Avatar\":1, \"Titanic\":5},\n",
        "    \"User4\": {\"Inception\":5, \"Avatar\":4, \"Titanic\":3}\n",
        "}\n",
        "\n",
        "target_user = \"User1\""
      ],
      "metadata": {
        "id": "vAFjJwn33CVG"
      },
      "execution_count": 20,
      "outputs": []
    },
    {
      "cell_type": "code",
      "source": [
        "# Pearson correlation\n",
        "def pearson_sim(user1, user2):\n",
        "    common = set(ratings[user1]) & set(ratings[user2])\n",
        "    if not common: return 0\n",
        "    x = [ratings[user1][m] for m in common]\n",
        "    y = [ratings[user2][m] for m in common]\n",
        "    n = len(common)\n",
        "    num = sum((xi - sum(x)/n)*(yi - sum(y)/n) for xi, yi in zip(x,y))\n",
        "    den = (sum((xi - sum(x)/n)**2 for xi in x) * sum((yi - sum(y)/n)**2 for yi in y))**0.5\n",
        "    return num/den if den !=0 else 0"
      ],
      "metadata": {
        "id": "kc9S9W3p2Fg1"
      },
      "execution_count": 21,
      "outputs": []
    },
    {
      "cell_type": "code",
      "source": [
        "# Predict unrated movies\n",
        "all_movies = set(m for r in ratings.values() for m in r)\n",
        "predictions = {}\n",
        "for movie in all_movies:\n",
        "    if movie not in ratings[target_user]:   # Only predict for unseen movies\n",
        "        score = 0\n",
        "        sim_sum = 0\n",
        "        for user, user_ratings in ratings.items():\n",
        "            if user != target_user and movie in user_ratings:\n",
        "                sim = pearson_sim(target_user, user)\n",
        "                score += sim * user_ratings[movie]\n",
        "                sim_sum += abs(sim)\n",
        "        predictions[movie] = score/sim_sum if sim_sum!=0 else 0\n",
        "\n",
        "# Sort predictions\n",
        "predictions = sorted(predictions.items(), key=lambda x: x[1], reverse=True)\n",
        "print(\"Collaborative Filtering Recommendations for User1:\")\n",
        "for movie, score in predictions:\n",
        "    print(f\"{movie} (predicted score: {round(score,2)})\")"
      ],
      "metadata": {
        "colab": {
          "base_uri": "https://localhost:8080/"
        },
        "id": "bxLMJOre3G_s",
        "outputId": "dffcc38b-9e97-4e99-b271-198ce3f45237"
      },
      "execution_count": 22,
      "outputs": [
        {
          "output_type": "stream",
          "name": "stdout",
          "text": [
            "Collaborative Filtering Recommendations for User1:\n",
            "Titanic (predicted score: 2.0)\n"
          ]
        }
      ]
    }
  ]
}