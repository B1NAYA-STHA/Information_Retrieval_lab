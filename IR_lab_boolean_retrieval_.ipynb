{
  "nbformat": 4,
  "nbformat_minor": 0,
  "metadata": {
    "colab": {
      "provenance": []
    },
    "kernelspec": {
      "name": "python3",
      "display_name": "Python 3"
    },
    "language_info": {
      "name": "python"
    }
  },
  "cells": [
    {
      "cell_type": "code",
      "source": [
        "import pandas as pd\n",
        "import string\n",
        "from nltk.corpus import stopwords\n",
        "from nltk.tokenize import word_tokenize\n",
        "from collections import Counter\n",
        "import math\n",
        "import nltk\n",
        "nltk.download('stopwords')\n",
        "nltk.download('punkt_tab')"
      ],
      "metadata": {
        "colab": {
          "base_uri": "https://localhost:8080/"
        },
        "id": "vFenSLzVet5p",
        "outputId": "e0f23cb9-d778-450e-e8c5-dfbfdf8c681f"
      },
      "execution_count": null,
      "outputs": [
        {
          "output_type": "stream",
          "name": "stderr",
          "text": [
            "[nltk_data] Downloading package stopwords to /root/nltk_data...\n",
            "[nltk_data]   Package stopwords is already up-to-date!\n",
            "[nltk_data] Downloading package punkt_tab to /root/nltk_data...\n",
            "[nltk_data]   Package punkt_tab is already up-to-date!\n"
          ]
        },
        {
          "output_type": "execute_result",
          "data": {
            "text/plain": [
              "True"
            ]
          },
          "metadata": {},
          "execution_count": 19
        }
      ]
    },
    {
      "cell_type": "code",
      "source": [
        "text = [\n",
        "    \"John likes soccer. John plays soccer every afternoon after school.\",\n",
        "    \"Mary reads books. Mary reads books in the library every evening.\",\n",
        "    \"The cat chased the cat around the yard until the cat tired.\",\n",
        "    \"He likes football and she likes football more than any other sport.\"\n",
        "]\n",
        "stop_words = set(stopwords.words('english'))\n",
        "\n",
        "def remove_stopwords(text):\n",
        "    words = word_tokenize(text)\n",
        "    return [word for word in words if word.lower() not in stop_words and word not in string.punctuation]\n",
        "\n",
        "tokenized_doc = [remove_stopwords(t) for t in text]\n",
        "\n",
        "docs = {i+1: tokenized_doc[i] for i in range(len(tokenized_doc))}\n",
        "\n",
        "tokenized_doc"
      ],
      "metadata": {
        "colab": {
          "base_uri": "https://localhost:8080/"
        },
        "id": "Ur78wU2Seokr",
        "outputId": "536697dd-ea1f-4bb0-aa98-666526c886d2"
      },
      "execution_count": null,
      "outputs": [
        {
          "output_type": "execute_result",
          "data": {
            "text/plain": [
              "[['John',\n",
              "  'likes',\n",
              "  'soccer',\n",
              "  'John',\n",
              "  'plays',\n",
              "  'soccer',\n",
              "  'every',\n",
              "  'afternoon',\n",
              "  'school'],\n",
              " ['Mary',\n",
              "  'reads',\n",
              "  'books',\n",
              "  'Mary',\n",
              "  'reads',\n",
              "  'books',\n",
              "  'library',\n",
              "  'every',\n",
              "  'evening'],\n",
              " ['cat', 'chased', 'cat', 'around', 'yard', 'cat', 'tired'],\n",
              " ['likes', 'football', 'likes', 'football', 'sport']]"
            ]
          },
          "metadata": {},
          "execution_count": 20
        }
      ]
    },
    {
      "cell_type": "code",
      "execution_count": null,
      "metadata": {
        "id": "WcIIlh-AcG3z"
      },
      "outputs": [],
      "source": [
        "def boolean_retrieval(query, docs):\n",
        "    \"\"\"\n",
        "    query: string like \"apple AND NOT banana\"\n",
        "    docs: dict {doc_id: [tokenized words]}\n",
        "    returns: set of matching doc_ids\n",
        "    \"\"\"\n",
        "    results = set()\n",
        "    query = query.lower().split()\n",
        "\n",
        "    for doc_id, tokens in docs.items():\n",
        "        tokens_set = set(tokens)\n",
        "\n",
        "        i = 0\n",
        "        match = None\n",
        "        while i < len(query):\n",
        "            token = query[i]\n",
        "\n",
        "            if token == \"not\":\n",
        "                term = query[i+1]\n",
        "                current = term not in tokens_set\n",
        "                i += 2\n",
        "            else:\n",
        "                current = token in tokens_set\n",
        "                i += 1\n",
        "\n",
        "            if match is None:\n",
        "                match = current\n",
        "            elif i <= len(query):\n",
        "                op = query[i-2]  # previous operator (and/or)\n",
        "                if op == \"and\":\n",
        "                    match = match and current\n",
        "                elif op == \"or\":\n",
        "                    match = match or current\n",
        "\n",
        "        if match:\n",
        "            results.add(doc_id)\n",
        "\n",
        "    return results\n"
      ]
    },
    {
      "cell_type": "code",
      "source": [
        "queries = [\n",
        "    \"school AND soccer\",\n",
        "    \"books OR cat\",\n",
        "    \"cat AND NOT books\",\n",
        "    \"football AND likes\"\n",
        "]\n",
        "for q in queries:\n",
        "    print(f\"Query: {q}\")\n",
        "    print(\"Matched Docs:\", boolean_retrieval(q, docs))\n",
        "    print(\"-\" * 40)"
      ],
      "metadata": {
        "colab": {
          "base_uri": "https://localhost:8080/"
        },
        "id": "0tOvc5x_e10o",
        "outputId": "aba43481-e9f4-4462-eb03-f100aa02ca9d"
      },
      "execution_count": null,
      "outputs": [
        {
          "output_type": "stream",
          "name": "stdout",
          "text": [
            "Query: school AND soccer\n",
            "Matched Docs: {1}\n",
            "----------------------------------------\n",
            "Query: books OR cat\n",
            "Matched Docs: {2, 3}\n",
            "----------------------------------------\n",
            "Query: cat AND NOT books\n",
            "Matched Docs: {3}\n",
            "----------------------------------------\n",
            "Query: football AND likes\n",
            "Matched Docs: {4}\n",
            "----------------------------------------\n"
          ]
        }
      ]
    },
    {
      "cell_type": "markdown",
      "source": [
        "**KL Divergence**"
      ],
      "metadata": {
        "id": "2tvhE0nKmS0j"
      }
    },
    {
      "cell_type": "code",
      "source": [
        "def kl_divergence(p, q, epsilon=1e-10):\n",
        "    \"\"\"\n",
        "    KL(P || Q) = sum_x P(x) * log(P(x)/Q(x))\n",
        "    p: query model (dict of term probabilities)\n",
        "    q: document model (dict of term probabilities)\n",
        "    \"\"\"\n",
        "    divergence = 0.0\n",
        "    for term, p_val in p.items():\n",
        "        q_val = q.get(term, epsilon)  # smoothing if term missing\n",
        "        divergence += p_val * math.log(p_val / q_val)\n",
        "    return divergence"
      ],
      "metadata": {
        "id": "mkVgmN9ikJUt"
      },
      "execution_count": null,
      "outputs": []
    },
    {
      "cell_type": "code",
      "source": [
        "query = [\"soccer\", \"football\", \"school\", \"game\"]"
      ],
      "metadata": {
        "id": "BENX5dC_k8dU"
      },
      "execution_count": null,
      "outputs": []
    },
    {
      "cell_type": "code",
      "source": [
        "def get_prob_vector(tokens):\n",
        "    counts = Counter(tokens)\n",
        "    total = sum(counts.values())\n",
        "    return {term: count/total for term, count in counts.items()}"
      ],
      "metadata": {
        "id": "NVID_niLlq9N"
      },
      "execution_count": null,
      "outputs": []
    },
    {
      "cell_type": "code",
      "source": [
        "# Build Term Probabilities\n",
        "query_model = get_prob_vector(query)\n",
        "doc_models = [get_prob_vector(doc) for doc in tokenized_doc]\n",
        "doc_models"
      ],
      "metadata": {
        "colab": {
          "base_uri": "https://localhost:8080/"
        },
        "id": "dclRG6btkdet",
        "outputId": "d6ea31dc-7b7c-4d13-cd6a-eb1beb12dd69"
      },
      "execution_count": null,
      "outputs": [
        {
          "output_type": "execute_result",
          "data": {
            "text/plain": [
              "[{'John': 0.2222222222222222,\n",
              "  'likes': 0.1111111111111111,\n",
              "  'soccer': 0.2222222222222222,\n",
              "  'plays': 0.1111111111111111,\n",
              "  'every': 0.1111111111111111,\n",
              "  'afternoon': 0.1111111111111111,\n",
              "  'school': 0.1111111111111111},\n",
              " {'Mary': 0.2222222222222222,\n",
              "  'reads': 0.2222222222222222,\n",
              "  'books': 0.2222222222222222,\n",
              "  'library': 0.1111111111111111,\n",
              "  'every': 0.1111111111111111,\n",
              "  'evening': 0.1111111111111111},\n",
              " {'cat': 0.42857142857142855,\n",
              "  'chased': 0.14285714285714285,\n",
              "  'around': 0.14285714285714285,\n",
              "  'yard': 0.14285714285714285,\n",
              "  'tired': 0.14285714285714285},\n",
              " {'likes': 0.4, 'football': 0.4, 'sport': 0.2}]"
            ]
          },
          "metadata": {},
          "execution_count": 40
        }
      ]
    },
    {
      "cell_type": "code",
      "source": [
        "#Compute KL Divergence\n",
        "kl_scores = []\n",
        "for i, doc_model in enumerate(doc_models):\n",
        "    score = kl_divergence(query_model, doc_model)\n",
        "    kl_scores.append((i, score))\n",
        "\n",
        "# Rank documents by KL divergence (smaller = more relevant)\n",
        "ranked_docs = sorted(kl_scores, key=lambda x: x[1])\n",
        "ranked_docs"
      ],
      "metadata": {
        "colab": {
          "base_uri": "https://localhost:8080/"
        },
        "id": "V5doJwaglz82",
        "outputId": "07eba420-5583-430a-be5d-0589f47a7af3"
      },
      "execution_count": null,
      "outputs": [
        {
          "output_type": "execute_result",
          "data": {
            "text/plain": [
              "[(0, 11.05195659737846),\n",
              " (3, 16.11216651930399),\n",
              " (1, 21.639556568820566),\n",
              " (2, 21.639556568820566)]"
            ]
          },
          "metadata": {},
          "execution_count": 41
        }
      ]
    },
    {
      "cell_type": "code",
      "source": [
        "#Output\n",
        "print(\"Query:\", query)\n",
        "print(\"\\nKL Divergence Scores (lower = more relevant):\")\n",
        "for doc_id, score in ranked_docs:\n",
        "    print(f\"Doc {doc_id+1}: {score:.4f} -> {text[doc_id]}\")"
      ],
      "metadata": {
        "colab": {
          "base_uri": "https://localhost:8080/"
        },
        "id": "lqsOX8U_mOcD",
        "outputId": "fae76b8b-4cc7-4fd7-c440-ed315c9e9cd5"
      },
      "execution_count": null,
      "outputs": [
        {
          "output_type": "stream",
          "name": "stdout",
          "text": [
            "Query: ['soccer', 'football', 'school', 'game']\n",
            "\n",
            "KL Divergence Scores (lower = more relevant):\n",
            "Doc 1: 11.0520 -> John likes soccer. John plays soccer every afternoon after school.\n",
            "Doc 4: 16.1122 -> He likes football and she likes football more than any other sport.\n",
            "Doc 2: 21.6396 -> Mary reads books. Mary reads books in the library every evening.\n",
            "Doc 3: 21.6396 -> The cat chased the cat around the yard until the cat tired.\n"
          ]
        }
      ]
    }
  ]
}